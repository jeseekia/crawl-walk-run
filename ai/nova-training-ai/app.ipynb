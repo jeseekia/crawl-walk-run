{
 "cells": [
  {
   "cell_type": "code",
   "execution_count": null,
   "metadata": {},
   "outputs": [],
   "source": [
    "from fastai.vision.all import *\n",
    "import gradio as gr\n",
    "\n",
    "\n",
    "__all__ = ['is_cat', 'learn', 'classify_image', 'categories', 'image', 'label', 'examples', 'iface']\n",
    "def greet(name):\n",
    "    return \"Hello \" + name + \"!!\"\n",
    "\n",
    "def is_cat(x): return x[0].isupper()\n",
    "\n",
    "\n",
    "learn = load_learner('model.pkl')\n",
    "\n",
    "categories = ('Dog', 'Cat')\n",
    "\n",
    "def classify_image(img):\n",
    "    pred,i,probs = learn.predict(img)\n",
    "    return dict(zip(categories, map(float, probs)))\n",
    "\n",
    "\n",
    "image = gr.Image(height=192, width=192)\n",
    "label = gr.Label()\n",
    "examples = ['cat-pic.jpeg']\n",
    "\n",
    "\n",
    "iface = gr.Interface(fn=classify_image, inputs=\"image\", outputs=\"label\", examples=examples)\n",
    "iface.launch(inline=False)"
   ]
  }
 ],
 "metadata": {
  "language_info": {
   "name": "python"
  }
 },
 "nbformat": 4,
 "nbformat_minor": 2
}
